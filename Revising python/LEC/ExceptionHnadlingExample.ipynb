{
 "cells": [
  {
   "cell_type": "code",
   "execution_count": null,
   "id": "1dfb7657-7bb1-4f90-85cc-c4b9c4d5cba2",
   "metadata": {},
   "outputs": [
    {
     "name": "stdout",
     "output_type": "stream",
     "text": [
      "Enter the first number : Mumbai\n",
      "Enter the Second number : Indians\n"
     ]
    },
    {
     "name": "stdout",
     "output_type": "stream",
     "text": [
      "Team SIze :  MumbaiIndians\n"
     ]
    }
   ],
   "source": [
    "def program(x,y):\n",
    "    try:\n",
    "        team = x+ y \n",
    "    except TypeError:\n",
    "        print(\"Please Check what you have entered\")\n",
    "    else:\n",
    "        print(\"Team Name : \",team)\n",
    "\n",
    "text1 = input(\"Enter the first Name :\")\n",
    "text2 = input(\"Enter the Second Name :\")\n",
    "program(text1,text2)   "
   ]
  },
  {
   "cell_type": "code",
   "execution_count": null,
   "id": "b494bd1a-4201-40f9-ae9f-4bd0a93294c7",
   "metadata": {},
   "outputs": [],
   "source": []
  }
 ],
 "metadata": {
  "kernelspec": {
   "display_name": "Python 3 (ipykernel)",
   "language": "python",
   "name": "python3"
  },
  "language_info": {
   "codemirror_mode": {
    "name": "ipython",
    "version": 3
   },
   "file_extension": ".py",
   "mimetype": "text/x-python",
   "name": "python",
   "nbconvert_exporter": "python",
   "pygments_lexer": "ipython3",
   "version": "3.9.0"
  }
 },
 "nbformat": 4,
 "nbformat_minor": 5
}
